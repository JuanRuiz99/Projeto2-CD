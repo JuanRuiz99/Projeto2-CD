{
 "cells": [
  {
   "cell_type": "markdown",
   "metadata": {},
   "source": [
    "# Projeto 2 - Classificador Automático de Sentimento\n",
    "\n",
    "Você foi contratado por uma empresa parar analisar como os clientes estão reagindo a um determinado produto no Twitter. A empresa deseja que você crie um programa que irá analisar as mensagens disponíveis e classificará como \"relevante\" ou \"irrelevante\". Com isso ela deseja que mensagens negativas, que denigrem o nome do produto, ou que mereçam destaque, disparem um foco de atenção da área de marketing.<br /><br />\n",
    "Como aluno de Ciência dos Dados, você lembrou do Teorema de Bayes, mais especificamente do Classificador Naive-Bayes, que é largamente utilizado em filtros anti-spam de e-mails. O classificador permite calcular qual a probabilidade de uma mensagem ser relevante dadas as palavras em seu conteúdo.<br /><br />\n",
    "Para realizar o MVP (*minimum viable product*) do projeto, você precisa implementar uma versão do classificador que \"aprende\" o que é relevante com uma base de treinamento e compara a performance dos resultados com uma base de testes.<br /><br />\n",
    "Após validado, o seu protótipo poderá também capturar e classificar automaticamente as mensagens da plataforma.\n",
    "\n",
    "## Informações do Projeto\n",
    "\n",
    "Prazo: 19/Set até às 23:59.<br />\n",
    "Grupo: 2 ou 3 pessoas - grupos com 3 pessoas terá uma rubrica diferenciada.<br /><br />\n",
    "Entregáveis via GitHub: \n",
    "* Arquivo notebook com o código do classificador, seguindo as orientações abaixo.\n",
    "* Arquivo Excel com as bases de treinamento e teste totalmente classificado.\n",
    "\n",
    "**NÃO gravar a key do professor no arquivo**\n",
    "\n",
    "\n",
    "### Entrega Intermediária: Check 1 - APS 2\n",
    "\n",
    "Até o dia 10/Set às 23:59, xlsx deve estar no Github com as seguintes evidências: \n",
    "\n",
    "  * Produto escolhido.\n",
    "  * Arquivo Excel contendo a base de treinamento e a base de testes já classificadas.\n",
    "\n",
    "Sugestão de leitura:<br />\n",
    "https://monkeylearn.com/blog/practical-explanation-naive-bayes-classifier/"
   ]
  },
  {
   "cell_type": "markdown",
   "metadata": {},
   "source": [
    "___\n",
    "\n",
    "## Parte I - Adquirindo a Base de Dados\n",
    "\n",
    "Acessar o notebook **Projeto-2-Planilha** para realizar a coleta dos dados. O grupo deve classificar os dados coletados manualmente."
   ]
  },
  {
   "cell_type": "markdown",
   "metadata": {},
   "source": [
    "___\n",
    "## Parte II - Montando o Classificador Naive-Bayes\n",
    "\n",
    "Com a base de treinamento montada, comece a desenvolver o classificador. Não se esqueça de implementar o Laplace Smoothing (https://en.wikipedia.org/wiki/Laplace_smoothing).\n",
    "\n",
    "Opcionalmente: \n",
    "* Limpar as mensagens removendo os caracteres: enter, :, \", ', (, ), etc. Não remover emojis.<br />\n",
    "* Corrigir separação de espaços entre palavras e/ou emojis.\n",
    "* Propor outras limpezas/transformações que não afetem a qualidade da informação.\n",
    "\n",
    "Escreva o seu código abaixo:"
   ]
  },
  {
   "cell_type": "code",
   "execution_count": 21,
   "metadata": {},
   "outputs": [],
   "source": [
    "import pandas as pd\n",
    "\n",
    "#Excel\n",
    "Data_Treinamento = pd.read_excel(\"tweets_McDonald's_201809061113 copy.xlsx\", sheet_name = 'Treinamento')\n",
    "Data_Teste = pd.read_excel(\"tweets_McDonald's_201809061113 copy.xlsx\", sheet_name = 'Teste')\n",
    "Relevante = Data_Treinamento.Treinamento[Data_Treinamento.Relevância == 'R']\n",
    "Irrelevante = Data_Treinamento.Treinamento[Data_Treinamento.Relevância == 'NR']\n",
    "#Listas\n",
    "PalavrasR = []\n",
    "PalavrasNR = []\n",
    "PalavrasTo = []\n",
    "Data_Teste['Teste'] = Teste\n",
    "\n",
    "\n",
    "#Limpa Tweets\n",
    "for l in Relevante:\n",
    "    l.replace(',','')\n",
    "    l.replace('/n', '')\n",
    "    l.replace('\"\"', \"\")\n",
    "    l.replace(\"'\", \"\")\n",
    "    l.replace(':', '')\n",
    "    limpaR = l.split(\" \")\n",
    "    PalavrasR.append(limpaR)\n",
    "\n",
    "for l in Irrelevante:\n",
    "    l.replace(',','')\n",
    "    l.replace('/n', '')\n",
    "    l.replace('\"\"', \"\")\n",
    "    l.replace(\"'\", \"\")\n",
    "    l.replace(':', '')\n",
    "    limpaNR = l.split(\" \")\n",
    "    PalavrasNR.append(limpaNR)\n",
    "        \n",
    "#Coloca lista de relevantes e irrelevantes em uma lista total        \n",
    "for i in range(len(PalavrasR)-1):\n",
    "    PalavrasTo.append(PalavrasR[i])\n",
    "    PalavrasTo.append(PalavrasNR[i])\n",
    "\n",
    "#Lista sem palavras repetidas\n",
    "def Sem_repeticao(lista):\n",
    "    LP = []\n",
    "    for i in lista:\n",
    "        for c in i:\n",
    "            if c.lower() not in LP:\n",
    "                LP.append(c.lower())\n",
    "    return LP\n",
    "LP=Sem_repeticao(PalavrasTo)\n",
    "\n",
    "#Probabilidade da palavra ser relevante\n",
    "def Prob_Rr(Palavra):\n",
    "    soma = 1\n",
    "    total = 0\n",
    "    for i in PalavrasR:\n",
    "        total += len(i)\n",
    "        for c in i:\n",
    "            if c.lower() == Palavra.lower():\n",
    "                soma += 1\n",
    "    return soma/(total + len(LP))\n",
    "\n",
    "def Prob_NRr(Palavra):\n",
    "    soma = 1\n",
    "    total = 0\n",
    "    for i in PalavrasNR:\n",
    "        total += len(i)\n",
    "        for c in i:\n",
    "            if c.lower() == Palavra.lower():\n",
    "                soma += 1\n",
    "    return soma/(total + len(LP))\n",
    "\n",
    "#Relevancia\n",
    "Prob_R = len(Relevante)/len(Data_Treinamento.Treinamento)\n",
    "Prob_NR = len(Irrelevante)/len(Data_Treinamento.Treinamento)\n",
    "\n",
    "#Classificador\n",
    "def Classificador(Lista):\n",
    "    Lista_classificada = []\n",
    "    for i in Lista:\n",
    "        w= i.split()\n",
    "        PR = []\n",
    "        PNR = []\n",
    "        for k in w:\n",
    "            PR.append(Prob_Rr(k))\n",
    "            PNR.append(Prob_NRr(k))\n",
    "        P_Relevante = 1\n",
    "        P_Irrelevante = 1\n",
    "        for i in PR:\n",
    "            P_Relevante *= i\n",
    "        for i in PNR:\n",
    "            P_Irrelevante *= i\n",
    "        Prel = P_Relevante*Prob_R\n",
    "        Pirrel = P_Irrelevante*Prob_NR\n",
    "        if Prel > Pirrel:\n",
    "            Lista_classificada.append('Relevante')\n",
    "        else:\n",
    "            Lista_classificada.append('Irrelevante')\n",
    "    return Lista_classificada\n",
    "\n"
   ]
  },
  {
   "cell_type": "markdown",
   "metadata": {},
   "source": [
    "# Análise base Teste"
   ]
  },
  {
   "cell_type": "code",
   "execution_count": 31,
   "metadata": {},
   "outputs": [
    {
     "name": "stdout",
     "output_type": "stream",
     "text": [
      "['Irrelevante', 'Irrelevante', 'Irrelevante', 'Relevante', 'Relevante', 'Relevante', 'Relevante', 'Relevante', 'Relevante', 'Irrelevante', 'Relevante', 'Relevante', 'Irrelevante', 'Irrelevante', 'Relevante', 'Irrelevante', 'Relevante', 'Relevante', 'Irrelevante', 'Relevante', 'Irrelevante', 'Relevante', 'Irrelevante', 'Irrelevante', 'Irrelevante', 'Relevante', 'Irrelevante', 'Irrelevante', 'Irrelevante', 'Irrelevante', 'Relevante', 'Irrelevante', 'Irrelevante', 'Irrelevante', 'Irrelevante', 'Relevante', 'Relevante', 'Irrelevante', 'Irrelevante', 'Irrelevante', 'Relevante', 'Relevante', 'Irrelevante', 'Relevante', 'Irrelevante', 'Relevante', 'Irrelevante', 'Irrelevante', 'Irrelevante', 'Irrelevante', 'Irrelevante', 'Irrelevante', 'Irrelevante', 'Relevante', 'Relevante', 'Relevante', 'Irrelevante', 'Irrelevante', 'Irrelevante', 'Relevante', 'Irrelevante', 'Irrelevante', 'Irrelevante', 'Relevante', 'Relevante', 'Relevante', 'Irrelevante', 'Irrelevante', 'Relevante', 'Irrelevante', 'Irrelevante', 'Irrelevante', 'Irrelevante', 'Relevante', 'Irrelevante', 'Relevante', 'Irrelevante', 'Relevante', 'Relevante', 'Relevante', 'Irrelevante', 'Irrelevante', 'Irrelevante', 'Irrelevante', 'Relevante', 'Relevante', 'Relevante', 'Irrelevante', 'Relevante', 'Irrelevante', 'Irrelevante', 'Irrelevante', 'Relevante', 'Relevante', 'Irrelevante', 'Relevante', 'Irrelevante', 'Relevante', 'Irrelevante', 'Relevante', 'Relevante', 'Relevante', 'Relevante', 'Irrelevante', 'Irrelevante', 'Relevante', 'Relevante', 'Irrelevante', 'Relevante', 'Irrelevante', 'Irrelevante', 'Irrelevante', 'Relevante', 'Irrelevante', 'Irrelevante', 'Irrelevante', 'Relevante', 'Relevante', 'Irrelevante', 'Relevante', 'Relevante', 'Relevante', 'Relevante', 'Relevante', 'Relevante', 'Relevante', 'Irrelevante', 'Irrelevante', 'Relevante', 'Irrelevante', 'Relevante', 'Relevante', 'Irrelevante', 'Irrelevante', 'Relevante', 'Irrelevante', 'Irrelevante', 'Relevante', 'Relevante', 'Relevante', 'Irrelevante', 'Relevante', 'Relevante', 'Irrelevante', 'Relevante', 'Relevante', 'Irrelevante', 'Relevante', 'Relevante', 'Irrelevante', 'Relevante', 'Irrelevante', 'Irrelevante', 'Irrelevante', 'Irrelevante', 'Relevante', 'Irrelevante', 'Irrelevante', 'Irrelevante', 'Relevante', 'Irrelevante', 'Irrelevante', 'Irrelevante', 'Relevante', 'Relevante', 'Irrelevante', 'Relevante', 'Irrelevante', 'Relevante', 'Relevante', 'Relevante', 'Relevante', 'Irrelevante', 'Irrelevante', 'Irrelevante', 'Relevante', 'Irrelevante', 'Irrelevante', 'Irrelevante', 'Relevante', 'Irrelevante', 'Relevante', 'Irrelevante', 'Irrelevante', 'Irrelevante', 'Irrelevante', 'Relevante', 'Relevante', 'Irrelevante', 'Relevante', 'Relevante', 'Irrelevante', 'Irrelevante', 'Irrelevante', 'Relevante', 'Irrelevante', 'Relevante', 'Relevante', 'Relevante', 'Irrelevante']\n"
     ]
    }
   ],
   "source": [
    "Frases_teste = []\n",
    "for i in Teste:\n",
    "    Frases_teste.append(i)\n",
    "Teste_Final = Classificador(Frases_teste)\n",
    "print(Teste_Final)"
   ]
  },
  {
   "cell_type": "markdown",
   "metadata": {},
   "source": [
    "___\n",
    "## Verificando a performance\n",
    "\n",
    "Agora você deve testar o seu Classificador com a base de Testes.<br /><br /> \n",
    "\n",
    "Você deve extrair as seguintes medidas:\n",
    "* Porcentagem de positivos falsos (marcados como relevante mas não são relevantes)\n",
    "* Porcentagem de positivos verdadeiros (marcado como relevante e são relevantes)\n",
    "* Porcentagem de negativos verdadeiros (marcado como não relevante e não são relevantes)\n",
    "* Porcentagem de negativos falsos (marcado como não relevante e são relevantes)\n",
    "\n",
    "Obrigatório para grupos de 3 alunos:\n",
    "* Criar categorias intermediárias de relevância baseado na diferença de probabilidades. Exemplo: muito relevante, relevante, neutro, irrelevante e muito irrelevante."
   ]
  },
  {
   "cell_type": "code",
   "execution_count": 36,
   "metadata": {
    "scrolled": true
   },
   "outputs": [
    {
     "name": "stdout",
     "output_type": "stream",
     "text": [
      "Positivos Falsos: 0.305\n",
      "Positivos Verdadeiros: 0.16\n",
      "Negativos Verdadeiros: 0.525\n",
      "Negativos Falsos: 0.01\n"
     ]
    }
   ],
   "source": [
    "teste = Data_Teste.Relevância\n",
    "\n",
    "Positivos_Falsos = 0\n",
    "for i in range(len(Teste_Final)) and range(len(teste)):\n",
    "    if Final[i] == 'Relevante' and teste[i] == \"NR\":\n",
    "        Positivos_Falsos += 1\n",
    "print('Positivos Falsos: {0}'.format(Positivos_Falsos/200))\n",
    "\n",
    "Positivos_Verdadeiros = 0\n",
    "for i in range(len(Teste_Final)) and range(len(teste)):\n",
    "    if Final[i] == 'Relevante' and teste[i] == \"R\":\n",
    "        Positivos_Verdadeiros += 1\n",
    "print('Positivos Verdadeiros: {0}'.format(Positivos_Verdadeiros/200))\n",
    "\n",
    "Negativos_Verdadeiros = 0\n",
    "for i in range(len(Teste_Final)) and range(len(teste)):\n",
    "    if Final[i] == 'Irrelevante' and teste[i] == \"NR\":\n",
    "        Negativos_Verdadeiros += 1\n",
    "print('Negativos Verdadeiros: {0}'.format(Negativos_Verdadeiros/200))\n",
    "\n",
    "Negativos_Falsos = 0\n",
    "for i in range(len(Teste_Final)) and range(len(teste)):\n",
    "    if Final[i] == 'Irrelevante' and teste[i] == \"R\":\n",
    "        Negativos_Falsos += 1\n",
    "print('Negativos Falsos: {0}'.format(Negativos_Falsos/200))"
   ]
  },
  {
   "cell_type": "code",
   "execution_count": 33,
   "metadata": {},
   "outputs": [
    {
     "name": "stdout",
     "output_type": "stream",
     "text": [
      "1.0\n"
     ]
    }
   ],
   "source": [
    "print(0.305+0.16+0.525+0.01)"
   ]
  },
  {
   "cell_type": "markdown",
   "metadata": {},
   "source": [
    "___\n",
    "## Concluindo\n",
    "\n",
    "Escreva aqui a sua conclusão.<br /> \n",
    "Faça um comparativo qualitativo sobre as medidas obtidas.<br />\n",
    "Explique como são tratadas as mensagens com dupla negação e sarcasmo.<br />\n",
    "Proponha um plano de expansão. Por que eles devem continuar financiando o seu projeto?<br />\n",
    "\n",
    "Opcionalmente: \n",
    "* Discorrer por que não posso alimentar minha base de Treinamento automaticamente usando o próprio classificador, aplicado a novos tweets.\n",
    "* Propor diferentes cenários de uso para o classificador Naive-Bayes. Cenários sem intersecção com este projeto.\n",
    "* Sugerir e explicar melhorias reais no classificador com indicações concretas de como implementar (não é preciso codificar, mas indicar como fazer e material de pesquisa sobre o assunto).\n"
   ]
  },
  {
   "cell_type": "markdown",
   "metadata": {},
   "source": [
    "Nesse trabalho foram analisados diversos tweets sobre a empresa McDonald's com comentários que foram julgados anteriormente como relevantes ou irrelevantes, com o objetivo de criar um classificador autônomo capaz de julgar atravez da base teste e do estudo de probabilidades a relevância de tweets futuros para a empresa.\n",
    "\n",
    "Atravez do estudo dos resultados foi possível perceber que o classificador não foi eficaz ao jugar os tweets positivos tendo como apenas 16% de Positivos Verdadeiros (Marcados como relevantes que realmente são relevantes) e com uma taxa de Positivos Falsos (Marcados como relevantes mas são irrelevantes) de 30%. Isso pode ser explicado pela existência de sarcasmo e frases com duplo negativo nos tweets, os quais o classificador não consegue distinguir dos outros relevantes, assim classificando-os como relevantes. Outra possibilidade é a falta de filtração dos caracteres (pontos, virgulas, etc.) que estavam acoplados a palavras e o classificador as entendeu como palavras diferentes (exemplo: \"McDonald's\" e \"McDonald's.\").\n",
    "\n",
    "Já no caso dos tweets irrelevantes, o classificador se mostrou mais eficaz tendo uma porcentagem de acerto de 52% nos Negativos Verdadeiros (Marcados como irrelevantes e são irrelevantes) e um erro de apenas 1% em relação aos Negativos Falsos (Marcados como irrelevantes mas são relevantes). Apesar disso, poderia ter tido um desempenho melhor nessa análise no caso dos Negativos Verdadeiros, mas esta ineficácia pode ser atribuida também aos fatores de sarcasmo, duplo negativo e caracteres acoplados como foi discutido no parágrafo anterior. \n",
    "\n",
    "Contudo, uma extensão de investimento nesse projeto poderia ser muito útil para a empresa, pois futuramente este classificador pode ser capaz de analisar comentários de clientes sobre produtos específicos ou comentários gerais sobre a empresa, conseguindo classificar o que previamente não foi possível (sarcasmo, duplo negativo, caracteres acoplados), assim facilitando um diagnóstico da opinião de sua clientela permitindo uma melhor adaptação de seus produtos com a opinião popular. "
   ]
  },
  {
   "cell_type": "code",
   "execution_count": null,
   "metadata": {},
   "outputs": [],
   "source": []
  }
 ],
 "metadata": {
  "kernelspec": {
   "display_name": "Python 3",
   "language": "python",
   "name": "python3"
  },
  "language_info": {
   "codemirror_mode": {
    "name": "ipython",
    "version": 3
   },
   "file_extension": ".py",
   "mimetype": "text/x-python",
   "name": "python",
   "nbconvert_exporter": "python",
   "pygments_lexer": "ipython3",
   "version": "3.6.5"
  }
 },
 "nbformat": 4,
 "nbformat_minor": 2
}
